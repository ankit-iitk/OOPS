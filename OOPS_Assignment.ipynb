{
  "nbformat": 4,
  "nbformat_minor": 0,
  "metadata": {
    "colab": {
      "provenance": []
    },
    "kernelspec": {
      "name": "python3",
      "display_name": "Python 3"
    },
    "language_info": {
      "name": "python"
    }
  },
  "cells": [
    {
      "cell_type": "code",
      "execution_count": null,
      "metadata": {
        "colab": {
          "base_uri": "https://localhost:8080/",
          "height": 139
        },
        "collapsed": true,
        "id": "KJYSLgSssgos",
        "outputId": "016023c6-21f8-4dfc-f932-841477070047"
      },
      "outputs": [
        {
          "output_type": "execute_result",
          "data": {
            "text/plain": [
              "'\\nFive key concept of object - Oriented Programming (OOP)\\n\\n1. Encapsulation : Encapsulation refers to the bundling of data (attributes) and methods (functions) that operate on the data into a single unit,\\n   called a class. It also involves restricting access to some of the object\\'s components to protect the object\\'s state and prevent unauthorized\\n   modification. We have 3 access modifiers in python --> public,private,protected.\\n\\n2. Abstraction : Abstraction is the concept of hiding the complex implementation details and showing only the essential features of the object.\\n   We can use abstract classes or methods in Python to define a structure for subclasses, leaving the details to be filled in by them.\\n\\n3. Inheritance : Inheritance allows one class (child class) to inherit the attributes and methods from another class (parent class). This helps \\n   to reuse code and establish a hierarchical relationship between classes\\n\\n4. Polymorphism : Polymorphism allows methods to be used interchangeably, even if they are implemented differently in various classes. Different \\n   classes can define methods with the same name, but each can implement them in its own way.\\n\\n5. \\nComposition : Composition is a design principle where one class contains objects of other classes as part of its attributes. This is often used \\n   to model \"has-a\" relationships. Unlike inheritance, composition does not create a subclass but instead uses the services of other classes.   \\n'"
            ],
            "application/vnd.google.colaboratory.intrinsic+json": {
              "type": "string"
            }
          },
          "metadata": {},
          "execution_count": 1
        }
      ],
      "source": [
        "# Q. 1 What are the five key concepts of Object-Oriented Programming (OOP)?\n",
        "\n",
        "'''\n",
        "Five key concept of object - Oriented Programming (OOP)\n",
        "\n",
        "1. Encapsulation : Encapsulation refers to the bundling of data (attributes) and methods (functions) that operate on the data into a single unit,\n",
        "   called a class. It also involves restricting access to some of the object's components to protect the object's state and prevent unauthorized\n",
        "   modification. We have 3 access modifiers in python --> public,private,protected.\n",
        "\n",
        "2. Abstraction : Abstraction is the concept of hiding the complex implementation details and showing only the essential features of the object.\n",
        "   We can use abstract classes or methods in Python to define a structure for subclasses, leaving the details to be filled in by them.\n",
        "\n",
        "3. Inheritance : Inheritance allows one class (child class) to inherit the attributes and methods from another class (parent class). This helps\n",
        "   to reuse code and establish a hierarchical relationship between classes\n",
        "\n",
        "4. Polymorphism : Polymorphism allows methods to be used interchangeably, even if they are implemented differently in various classes. Different\n",
        "   classes can define methods with the same name, but each can implement them in its own way.\n",
        "\n",
        "5.\n",
        "Composition : Composition is a design principle where one class contains objects of other classes as part of its attributes. This is often used\n",
        "   to model \"has-a\" relationships. Unlike inheritance, composition does not create a subclass but instead uses the services of other classes.\n",
        "'''\n"
      ]
    },
    {
      "cell_type": "code",
      "source": [
        "from re import M\n",
        "#  Q. 2 Write a Python class for a `Car` with attributes for `make`, `model`, and `year`. Include a method to display the car's information.\n",
        "\n",
        "class Car:\n",
        "  def __init__(self,make,model,year):\n",
        "    self.make = make\n",
        "    self.model = model\n",
        "    self.year = year\n",
        "\n",
        "  def car_info(self):\n",
        "    print(f\"Car make is {self.make}\")\n",
        "    print(f\"Car model is {self.model}\")\n",
        "    print(f\"Car year is {self.year}\")\n",
        "\n",
        "car_object = Car(\"Maruti\",\"Suzuki\",2024)\n",
        "car_object.car_info()\n",
        "\n"
      ],
      "metadata": {
        "colab": {
          "base_uri": "https://localhost:8080/"
        },
        "collapsed": true,
        "id": "zEsI2txoySU9",
        "outputId": "b77106e0-086d-41f0-961f-71350114fcae"
      },
      "execution_count": null,
      "outputs": [
        {
          "output_type": "stream",
          "name": "stdout",
          "text": [
            "Car make is Maruti\n",
            "Car model is Suzuki\n",
            "Car year is 2024\n"
          ]
        }
      ]
    },
    {
      "cell_type": "code",
      "source": [
        "from types import BuiltinMethodType\n",
        "#  Q. 3 Explain the difference between instance methods and class methods. Provide an example of each.\n",
        "'''\n",
        "Instance methods :  Instance methods are the most common type of methods in Python. They are defined within a class and operate\n",
        "on instances (objects) of the class. They take at least one parameter, typically self, which refers to the instance of the class.\n",
        "\n",
        "Class methods : Class methods are methods that are bound to the class, rather than instances of the class. They are defined using\n",
        "the @classmethod decorator and take at least one parameter, typically cls, which refers to the class itself (not the instance).\n",
        "'''\n",
        "\n",
        "\n",
        "# example of instance method\n",
        "\n",
        "class Bank:\n",
        "  balance = 1000\n",
        "  def __init__(self):\n",
        "    pass\n",
        "\n",
        "  def deposit(self,deposit_amount):\n",
        "    Bank.balance = Bank.balance + deposit_amount\n",
        "    return Bank.balance\n",
        "\n",
        "  def withdraw(self,withdraw_amount):\n",
        "    if Bank.balance >= withdraw_amount:\n",
        "      print(\"net amount left \",Bank.balance - withdraw_amount)\n",
        "    else :\n",
        "      print(\"Not enough balance\")\n",
        "\n",
        "b = Bank()\n",
        "b.balance\n",
        "b.deposit(2000)\n",
        "b.withdraw(2500)\n",
        "\n",
        "# example of class method\n",
        "\n",
        "class Bank:\n",
        "  balance = 1000\n",
        "  def __init__(self):\n",
        "    pass\n",
        "\n",
        "  @classmethod\n",
        "  def updated_balance(cls,new_balance):\n",
        "    Bank.balance = new_balance\n",
        "    return cls.balance\n",
        "\n",
        "  @classmethod\n",
        "  def deposit(cls,deposit_amount):\n",
        "    Bank.balance = Bank.balance + deposit_amount\n",
        "    return Bank.balance\n",
        "\n",
        "  @classmethod\n",
        "  def withdraw(self,withdraw_amount):\n",
        "    if Bank.balance >= withdraw_amount:\n",
        "      print(\"net amount left \",Bank.balance - withdraw_amount)\n",
        "    else :\n",
        "      print(\"Not enough balance\")\n",
        "\n",
        "Bank.updated_balance(200)\n",
        "b = Bank()\n",
        "b.balance\n",
        "b.deposit(400)\n",
        "b.withdraw(200)\n",
        "\n"
      ],
      "metadata": {
        "colab": {
          "base_uri": "https://localhost:8080/"
        },
        "collapsed": true,
        "id": "WNHQvjBFzQ2c",
        "outputId": "594f7c47-b914-452e-dab0-0b4a0d437bcb"
      },
      "execution_count": null,
      "outputs": [
        {
          "output_type": "stream",
          "name": "stdout",
          "text": [
            "net amount left  500\n",
            "net amount left  400\n"
          ]
        }
      ]
    },
    {
      "cell_type": "code",
      "source": [
        "# Q. 4 How does Python implement method overloading? Give an example.\n",
        "'''\n",
        "Python does not directly support method overloading,Method overloading generally refers to the ability to define\n",
        "multiple methods with the same name but with different parameter types or numbers.\n",
        "\n",
        "'''\n",
        "\n",
        "# example\n",
        "\n",
        "class Student:\n",
        "  def student_details(self):\n",
        "    print(\"welcome to IIT\")\n",
        "\n",
        "  def student_details(self,name=\"\"):\n",
        "    print(\"welcome to IIT\",name)\n",
        "\n",
        "  def student_details(self,name=\"\",course=\"\"):\n",
        "    print(\"welcome to IIT\",name,course)\n",
        "\n",
        "obj = Student()\n",
        "obj.student_details()\n",
        "obj.student_details(\"bob\")\n",
        "obj.student_details(\"bob\",\"Btech\")\n",
        "\n",
        "\n",
        "# Same above code as method overloading\n",
        "\n",
        "class Student:\n",
        " def student_details(self,name=\"\",course=\"\"):\n",
        "    print(\"welcome to IIT\",name,course)\n",
        "\n",
        "obj2 = Student()\n",
        "obj2.student_details()\n",
        "obj2.student_details(\"bob\")\n",
        "obj2.student_details(\"bob\",\"btech\")"
      ],
      "metadata": {
        "colab": {
          "base_uri": "https://localhost:8080/"
        },
        "collapsed": true,
        "id": "A0aj2WFL3iAv",
        "outputId": "f383816f-118b-4ab9-dca0-cf23ba32f7c4"
      },
      "execution_count": null,
      "outputs": [
        {
          "output_type": "stream",
          "name": "stdout",
          "text": [
            "welcome to IIT  \n",
            "welcome to IIT bob \n",
            "welcome to IIT bob Btech\n",
            "welcome to IIT  \n",
            "welcome to IIT bob \n",
            "welcome to IIT bob btech\n"
          ]
        }
      ]
    },
    {
      "cell_type": "code",
      "source": [
        "# Q. 5 What are the three types of access modifiers in Python? How are they denoted?\n",
        "'''\n",
        "We have three types of access modifiers\n",
        "\n",
        "1. Public :  Public members (attributes and methods) are accessible from anywhere, both inside and outside the class.\n",
        "   By default, all attributes and methods in Python are public unless specified.\n",
        "\n",
        "2. Private : Private members are intended to be accessible only within the class and are hidden from outside access.\n",
        "   Python uses name mangling to make private members less accessible, but they can still be accessed through a special\n",
        "   syntax. It is denoted by double underscore(__)\n",
        "\n",
        "3. Protected : Protected members are intended to be accessed only within the class and by subclasses (i.e., derived classes).\n",
        "   They are not truly private, but the underscore prefix suggests they should not be accessed directly outside of the class\n",
        "   and subclasses. It is denoted by single underscore(_)\n",
        "'''\n"
      ],
      "metadata": {
        "id": "4n7u0aG25ifr"
      },
      "execution_count": null,
      "outputs": []
    },
    {
      "cell_type": "code",
      "source": [
        "#  Q. 6 Describe the five types of inheritance in Python. Provide a simple example of multiple inheritance.\n",
        "\n",
        "'''\n",
        "1. Single inheritance : In single inheritance, a child class inherits from a single parent class. parent class--> child class\n",
        "\n",
        "2. Multiple Inheritance :  In multiple inheritance, a child class inherits from more than one parent class. parent class 1,parent class 2 --> child class\n",
        "\n",
        "3. Multilevel Inheritance :  In multilevel inheritance, a class inherits from a parent class, and another class inherits from that child class,\n",
        "   creating a chain of inheritance. parent class --> child class 1 --> child class 2\n",
        "\n",
        "4. Hierarchical Inheritance : In hierarchical inheritance, multiple child classes inherit from a single parent class. parent class --> chlid class 1, child class 2\n",
        "\n",
        "5. Hybrid Inheritance : A combination of two or more inheritance types, creating a more complex structure\n",
        "\n",
        "\n",
        "'''\n",
        "\n",
        "# example of multiple inheritance\n",
        "\n",
        "class Father:\n",
        "  def father_ability(self):\n",
        "    print(\"Have father ability \")\n",
        "\n",
        "class Mother:\n",
        "  def mother_ability(self):\n",
        "    print(\"Have mother ability \")\n",
        "\n",
        "class Child(Father,Mother):\n",
        "  def child_ability(self):\n",
        "    print(\"have both father and mother ability\")\n",
        "\n",
        "child = Child()\n",
        "\n",
        "child.father_ability()\n",
        "child.mother_ability()\n",
        "child.child_ability()"
      ],
      "metadata": {
        "colab": {
          "base_uri": "https://localhost:8080/"
        },
        "collapsed": true,
        "id": "XVYFQ1gk7mLs",
        "outputId": "aa038057-3adc-4a2b-894f-08624f878d0d"
      },
      "execution_count": null,
      "outputs": [
        {
          "output_type": "stream",
          "name": "stdout",
          "text": [
            "Have father ability \n",
            "Have mother ability \n",
            "have both father and mother ability\n"
          ]
        }
      ]
    },
    {
      "cell_type": "code",
      "source": [
        "# Q.7 What is the Method Resolution Order (MRO) in Python? How can you retrieve it programmatically?\n",
        "\n",
        "'''\n",
        "Method Resolution Order (MRO) is the order in which Python searches for a method in the class hierarchy when the method\n",
        "is called on an object. This order determines the sequence in which base classes are looked up in the case of inheritance,\n",
        "especially when multiple inheritance is involved.\n",
        "\n",
        "You can retrieve the MRO of a class using the mro() method or the __mro__ attribute. Both return the sequence of classes\n",
        "in the method resolution order.\n",
        "'''\n",
        "\n",
        "class A:\n",
        "    def method(self):\n",
        "        print(\"Method from class A\")\n",
        "\n",
        "class B(A):\n",
        "    def method(self):\n",
        "        print(\"Method from class B\")\n",
        "\n",
        "class C(A):\n",
        "    def method(self):\n",
        "        print(\"Method from class C\")\n",
        "\n",
        "class D(B, C):\n",
        "    pass\n",
        "\n",
        "\n",
        "obj = D()\n",
        "obj.method()  # Will call method() based on MRO\n",
        "\n",
        "print(D.mro())\n",
        "print(D.__mro__)\n",
        "\n"
      ],
      "metadata": {
        "colab": {
          "base_uri": "https://localhost:8080/"
        },
        "id": "GNpDKhC6Bq8C",
        "outputId": "03725b60-17c4-44d3-b0ab-8aaff54a7fe0"
      },
      "execution_count": null,
      "outputs": [
        {
          "output_type": "stream",
          "name": "stdout",
          "text": [
            "Method from class B\n",
            "[<class '__main__.D'>, <class '__main__.B'>, <class '__main__.C'>, <class '__main__.A'>, <class 'object'>]\n",
            "(<class '__main__.D'>, <class '__main__.B'>, <class '__main__.C'>, <class '__main__.A'>, <class 'object'>)\n"
          ]
        }
      ]
    },
    {
      "cell_type": "code",
      "source": [
        "# Q.8 Create an abstract base class `Shape` with an abstract method `area()`. Then create two subclasses `Circle` and `Rectangle` that implement the `area()` method.\n",
        "\n",
        "import abc\n",
        "\n",
        "class Shape:\n",
        "  def area(self):\n",
        "    pass\n",
        "\n",
        "class Circle(Shape):\n",
        "  @abc.abstractmethod\n",
        "  def area(self,radius):\n",
        "    self.radius = radius\n",
        "    return 3.14*self.radius*self.radius\n",
        "\n",
        "class Rectangle(Shape):\n",
        "  @abc.abstractmethod\n",
        "  def area(self,length,breadth):\n",
        "    self.length = length\n",
        "    self.breadth = breadth\n",
        "    return self.length*self.breadth\n",
        "\n",
        "cir = Circle()\n",
        "rect = Rectangle()\n",
        "\n",
        "print(cir.area(3))\n",
        "print(rect.area(4,6))\n"
      ],
      "metadata": {
        "id": "8SkfWUy3Ck4R",
        "colab": {
          "base_uri": "https://localhost:8080/"
        },
        "collapsed": true,
        "outputId": "c64ccaad-5243-40d5-e2af-111a89ab6da9"
      },
      "execution_count": 10,
      "outputs": [
        {
          "output_type": "stream",
          "name": "stdout",
          "text": [
            "28.259999999999998\n",
            "24\n"
          ]
        }
      ]
    },
    {
      "cell_type": "code",
      "source": [
        "# Q.9 Demonstrate polymorphism by creating a function that can work with different shape objects to calculate and print their areas.\n",
        "\n",
        "import abc\n",
        "\n",
        "class Shape:\n",
        "  def area(self):\n",
        "    pass\n",
        "\n",
        "class Circle(Shape):\n",
        "\n",
        "  def __init__(self,radius):\n",
        "    self.radius = radius\n",
        "  @abc.abstractmethod\n",
        "  def area(self):\n",
        "    return 3.14*self.radius*self.radius\n",
        "\n",
        "\n",
        "class Rectangle(Shape):\n",
        "  def __init__(self,length,breadth):\n",
        "    self.length = length\n",
        "    self.breadth = breadth\n",
        "  @abc.abstractmethod\n",
        "  def area(self):\n",
        "   return self.length * self.breadth\n",
        "\n",
        "cir = Circle(5)\n",
        "rect = Rectangle(3,4)\n",
        "\n",
        "shape = [cir,rect]\n",
        "\n",
        "def print_area():\n",
        "  for i in shape:\n",
        "    print(\"Area is \",i.area())\n",
        "\n",
        "print_area()\n",
        "\n"
      ],
      "metadata": {
        "colab": {
          "base_uri": "https://localhost:8080/"
        },
        "collapsed": true,
        "id": "2qhYFZc4va9c",
        "outputId": "2f5e3c22-efd5-45d4-bf9e-1015853a3ea0"
      },
      "execution_count": 31,
      "outputs": [
        {
          "output_type": "stream",
          "name": "stdout",
          "text": [
            "Area is  78.5\n",
            "Area is  12\n"
          ]
        }
      ]
    },
    {
      "cell_type": "code",
      "source": [
        "# Q.10 Implement encapsulation in a `BankAccount` class with private attributes for `balance` and`account_number`. Include methods for deposit, withdrawal, and balance inquiry.\n",
        "\n",
        "class BankAccount:\n",
        "  def __init__(self,account_number,balance):\n",
        "    self.__account_number = account_number\n",
        "    self.__balance = balance\n",
        "\n",
        "  def deposit(self,deposit_amount):\n",
        "    self.__balance = self.__balance + deposit_amount\n",
        "    return self.__balance\n",
        "\n",
        "  def withdraw(self,withdraw_amount):\n",
        "    if self.__balance >= withdraw_amount:\n",
        "      print(\"net balance is \",self.__balance - withdraw_amount)\n",
        "    else:\n",
        "      print(\"Not enough balance\")\n",
        "\n",
        "  def get_balance(self):\n",
        "    return self.__balance\n",
        "\n",
        "\n",
        "b = BankAccount(1234567,2000)\n",
        "print(b.get_balance())\n",
        "\n",
        "b.deposit(250)\n",
        "print(b.get_balance())\n",
        "\n",
        "b.withdraw(1248)"
      ],
      "metadata": {
        "colab": {
          "base_uri": "https://localhost:8080/"
        },
        "collapsed": true,
        "id": "xikiDJcayh7x",
        "outputId": "1d459025-b7f3-4acc-ae05-f70d02147f4a"
      },
      "execution_count": 40,
      "outputs": [
        {
          "output_type": "stream",
          "name": "stdout",
          "text": [
            "2000\n",
            "2250\n",
            "net balance is  1002\n"
          ]
        }
      ]
    },
    {
      "cell_type": "code",
      "source": [
        "# Q.11 Write a class that overrides the `__str__` and `__add__` magic methods. What will these methods allow you to do?\n",
        "'''\n",
        "__str__ : method is used to define how an object should be represented as a string, typically when it is passed to the\n",
        "          print() function or when the str() function is called on the object.\n",
        "\n",
        "__add__ : method allows you to define how the + operator behaves for instances of your class. For example, you can specify\n",
        "          how two objects of your class should be added together.\n",
        "'''\n",
        "\n",
        "class Point:\n",
        "  def __init__(self,x,y):\n",
        "    self.x = x\n",
        "    self.y = y\n",
        "\n",
        "  def __str__(self):\n",
        "    return f\"Point({self.x},{self.y})\"\n",
        "\n",
        "  def __add__(self,other):\n",
        "    return (self.x + other.x,self.y + other.y)\n",
        "\n",
        "p1 = Point(1,4)\n",
        "p2 = Point(6,2)\n",
        "\n",
        "print(p1)\n",
        "print(p2)\n",
        "\n",
        "p3 = p1 + p2\n",
        "print(p3)"
      ],
      "metadata": {
        "colab": {
          "base_uri": "https://localhost:8080/"
        },
        "collapsed": true,
        "id": "qYbH7zNXC60G",
        "outputId": "092bb36c-4d85-4935-ad32-1b80cc4f48d5"
      },
      "execution_count": 42,
      "outputs": [
        {
          "output_type": "stream",
          "name": "stdout",
          "text": [
            "Point(1,4)\n",
            "Point(6,2)\n",
            "(7, 6)\n"
          ]
        }
      ]
    },
    {
      "cell_type": "code",
      "source": [
        "# Q.12  Create a decorator that measures and prints the execution time of a function.\n",
        "\n",
        "import time\n",
        "\n",
        "def My_decorator(func):\n",
        "  def timer():\n",
        "    start = time.time()\n",
        "    end = time.time()\n",
        "    func()\n",
        "    print(\"Execution time of a function \",end - start)\n",
        "  return timer\n",
        "\n",
        "@My_decorator\n",
        "def Triangle():\n",
        "  for i in range(1,10):\n",
        "    for j in range(1,i+1):\n",
        "      print(\"*\",end=\" \")\n",
        "    print()\n",
        "\n",
        "Triangle()\n",
        "\n",
        "\n"
      ],
      "metadata": {
        "colab": {
          "base_uri": "https://localhost:8080/"
        },
        "collapsed": true,
        "id": "7hG0bOmHF8cV",
        "outputId": "6891205d-7995-4a54-c1a4-c0b9fc8b4394"
      },
      "execution_count": 50,
      "outputs": [
        {
          "output_type": "stream",
          "name": "stdout",
          "text": [
            "* \n",
            "* * \n",
            "* * * \n",
            "* * * * \n",
            "* * * * * \n",
            "* * * * * * \n",
            "* * * * * * * \n",
            "* * * * * * * * \n",
            "* * * * * * * * * \n",
            "Execution time of a function  2.384185791015625e-07\n"
          ]
        }
      ]
    },
    {
      "cell_type": "code",
      "source": [
        "# Q.13 Explain the concept of the Diamond Problem in multiple inheritance. How does Python resolve it?\n",
        "\n",
        "'''\n",
        "The Diamond Problem is a well-known issue that can occur in object-oriented programming languages that support multiple inheritance.\n",
        "It arises when a class inherits from two classes that have a common ancestor.\n",
        "      A\n",
        "     / \\\n",
        "    B   C\n",
        "     \\ /\n",
        "      D\n",
        "Python uses a method resolution order (MRO) algorithm to resolve this,Python's MRO algorithm ensures that the base classes are traversed\n",
        "in a specific order, eliminating ambiguity. The order is computed based on the inheritance hierarchy, considering both the class inheritance\n",
        "order and the base class order.\n",
        "'''\n",
        "\n",
        "class Vehicle:\n",
        "  def vehicle_info(self):\n",
        "    print(\"vehicle\")\n",
        "\n",
        "class Car(Vehicle):\n",
        "  def car_info(self):\n",
        "    print(\"car\")\n",
        "\n",
        "class Bike(Vehicle):\n",
        "  def bike_info(self):\n",
        "    print(\"bike\")\n",
        "\n",
        "class BMW(Car,Bike):\n",
        "  def bmw_info(self):\n",
        "    print(\"BMW manufactures both car and bike\")\n",
        "\n",
        "obj = BMW()\n",
        "obj.bmw_info()"
      ],
      "metadata": {
        "colab": {
          "base_uri": "https://localhost:8080/"
        },
        "collapsed": true,
        "id": "JZsGxoYWGh-D",
        "outputId": "38a6845d-8e56-46c8-a0d6-6ce0375ebf28"
      },
      "execution_count": 51,
      "outputs": [
        {
          "output_type": "stream",
          "name": "stdout",
          "text": [
            "BMW manufactures both car and bike\n"
          ]
        }
      ]
    },
    {
      "cell_type": "code",
      "source": [
        "# Q.14 Write a class method that keeps track of the number of instances created from a class.\n",
        "\n",
        "class CountInstance:\n",
        "  count = 0\n",
        "  def __init__(self):\n",
        "    CountInstance.count = CountInstance.count + 1\n",
        "\n",
        "  @classmethod\n",
        "  def get_instance_count(cls):\n",
        "    return cls.count\n",
        "\n",
        "a = CountInstance()\n",
        "b = CountInstance()\n",
        "c = CountInstance()\n",
        "d = CountInstance()\n",
        "e = CountInstance()\n",
        "\n",
        "CountInstance.get_instance_count()"
      ],
      "metadata": {
        "colab": {
          "base_uri": "https://localhost:8080/"
        },
        "collapsed": true,
        "id": "chprxQwfKDO6",
        "outputId": "524e11eb-69ba-4a5f-c1d7-b3b198705ce2"
      },
      "execution_count": 52,
      "outputs": [
        {
          "output_type": "execute_result",
          "data": {
            "text/plain": [
              "5"
            ]
          },
          "metadata": {},
          "execution_count": 52
        }
      ]
    },
    {
      "cell_type": "code",
      "source": [
        "# Q.15 Implement a static method in a class that checks if a given year is a leap year.\n",
        "\n",
        "class LeapYear:\n",
        "\n",
        "  def __init__(self,year):\n",
        "    self.year = year\n",
        "\n",
        "  @staticmethod\n",
        "  def check_leap_year(year):\n",
        "    if year % 4 == 0:\n",
        "      print(\"It is a leap year\")\n",
        "    else:\n",
        "      print(\"not a leap year\")\n",
        "\n",
        "\n",
        "LeapYear.check_leap_year(2004)\n",
        "LeapYear.check_leap_year(2003)"
      ],
      "metadata": {
        "colab": {
          "base_uri": "https://localhost:8080/"
        },
        "id": "VvEI3oH8LcOm",
        "outputId": "b2df8ad4-d6d0-4f40-876d-8748b612e172"
      },
      "execution_count": 79,
      "outputs": [
        {
          "output_type": "stream",
          "name": "stdout",
          "text": [
            "It is a leap year\n",
            "not a leap year\n"
          ]
        }
      ]
    },
    {
      "cell_type": "code",
      "source": [],
      "metadata": {
        "id": "D89z_OxeMOX_"
      },
      "execution_count": 73,
      "outputs": []
    }
  ]
}